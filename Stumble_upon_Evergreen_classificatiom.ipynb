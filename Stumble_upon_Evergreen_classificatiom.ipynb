{
  "nbformat": 4,
  "nbformat_minor": 0,
  "metadata": {
    "colab": {
      "name": "Stumble upon Evergreen classificatiom.ipynb",
      "private_outputs": true,
      "provenance": [],
      "collapsed_sections": []
    },
    "kernelspec": {
      "name": "python3",
      "display_name": "Python 3"
    },
    "accelerator": "GPU"
  },
  "cells": [
    {
      "cell_type": "code",
      "metadata": {
        "id": "-ZfEkEFCnBVH"
      },
      "source": [
        "import pandas as pd\r\n",
        "df_train = pd.read_table(\"/content/train.tsv\")\r\n",
        "df_test = pd.read_table(\"/content/test.tsv\")"
      ],
      "execution_count": null,
      "outputs": []
    },
    {
      "cell_type": "code",
      "metadata": {
        "id": "9dSMj8zgycjD"
      },
      "source": [
        "df_train.head()"
      ],
      "execution_count": null,
      "outputs": []
    },
    {
      "cell_type": "code",
      "metadata": {
        "id": "TREGbNZLj3te"
      },
      "source": [
        "df_train.columns"
      ],
      "execution_count": null,
      "outputs": []
    },
    {
      "cell_type": "code",
      "metadata": {
        "id": "VdOEpbTBl1eR"
      },
      "source": [
        "df_train.drop(['url', 'urlid', 'alchemy_category',\r\n",
        "       'alchemy_category_score', 'avglinksize', 'commonlinkratio_1',\r\n",
        "       'commonlinkratio_2', 'commonlinkratio_3', 'commonlinkratio_4',\r\n",
        "       'compression_ratio', 'embed_ratio', 'framebased', 'frameTagRatio',\r\n",
        "       'hasDomainLink', 'html_ratio', 'image_ratio', 'is_news',\r\n",
        "       'lengthyLinkDomain', 'linkwordscore', 'news_front_page',\r\n",
        "       'non_markup_alphanum_characters', 'numberOfLinks', 'numwords_in_url',\r\n",
        "       'parametrizedLinkRatio', 'spelling_errors_ratio'],axis = 1, inplace = True)"
      ],
      "execution_count": null,
      "outputs": []
    },
    {
      "cell_type": "code",
      "metadata": {
        "id": "4GE-LaxzniVN"
      },
      "source": [
        "import json\r\n",
        "def boilerplate_pre(data):\r\n",
        "    '''\r\n",
        "    This will only take body of the article; if there is no body than we'll take the title \r\n",
        "    '''\r\n",
        "    jsonData = json.loads(data)\r\n",
        "\r\n",
        "    try:\r\n",
        "        x = jsonData[\"body\"]\r\n",
        "        x = ' '.join(x.split(' ')[-400:])\r\n",
        "    except:\r\n",
        "        x = jsonData[\"title\"]\r\n",
        "    return x"
      ],
      "execution_count": null,
      "outputs": []
    },
    {
      "cell_type": "code",
      "metadata": {
        "id": "AEDn9WaioDKW"
      },
      "source": [
        "df_train['boilerplate'] = df_train.boilerplate.map(boilerplate_pre)"
      ],
      "execution_count": null,
      "outputs": []
    },
    {
      "cell_type": "code",
      "metadata": {
        "id": "lAvXz-aJoPHz"
      },
      "source": [
        "df_train.head()"
      ],
      "execution_count": null,
      "outputs": []
    },
    {
      "cell_type": "code",
      "metadata": {
        "id": "iB8Fc4xAm0K5"
      },
      "source": [
        "df_train['boilerplate'].isnull().any()"
      ],
      "execution_count": null,
      "outputs": []
    },
    {
      "cell_type": "code",
      "metadata": {
        "id": "IbxlNtvqe6Qh"
      },
      "source": [
        "df_train.shape"
      ],
      "execution_count": null,
      "outputs": []
    },
    {
      "cell_type": "code",
      "metadata": {
        "id": "MiNRVOukY0n1"
      },
      "source": [
        "df_train.dropna(inplace=True)"
      ],
      "execution_count": null,
      "outputs": []
    },
    {
      "cell_type": "code",
      "metadata": {
        "id": "PfT2BlQDZUHj"
      },
      "source": [
        "df_train['boilerplate'].isnull().any()"
      ],
      "execution_count": null,
      "outputs": []
    },
    {
      "cell_type": "code",
      "metadata": {
        "id": "Cd-zVARUZfaj"
      },
      "source": [
        "df_test['boilerplate'].isnull().any()"
      ],
      "execution_count": null,
      "outputs": []
    },
    {
      "cell_type": "code",
      "metadata": {
        "id": "qzfPV7Vzapo7"
      },
      "source": [
        "train_texts = list(df_train['boilerplate'])\r\n",
        "train_labels = list(df_train['label'])\r\n",
        "test_text = list(df_test[\"boilerplate\"])"
      ],
      "execution_count": null,
      "outputs": []
    },
    {
      "cell_type": "code",
      "metadata": {
        "id": "7P2Z-I2KeGL0"
      },
      "source": [
        "train_labels"
      ],
      "execution_count": null,
      "outputs": []
    },
    {
      "cell_type": "code",
      "metadata": {
        "id": "6WKW6NxIeO1p"
      },
      "source": [
        "from sklearn.model_selection import train_test_split\r\n",
        "train_texts, val_texts, train_labels, val_labels = train_test_split(train_texts, train_labels, test_size=.2)"
      ],
      "execution_count": null,
      "outputs": []
    },
    {
      "cell_type": "code",
      "metadata": {
        "id": "4aC6sOC3mbSP"
      },
      "source": [
        "!pip install transformers"
      ],
      "execution_count": null,
      "outputs": []
    },
    {
      "cell_type": "code",
      "metadata": {
        "id": "gDj1UNABl3Q8"
      },
      "source": [
        "from transformers import DistilBertTokenizerFast\r\n",
        "tokenizer = DistilBertTokenizerFast.from_pretrained('distilbert-base-uncased')"
      ],
      "execution_count": null,
      "outputs": []
    },
    {
      "cell_type": "code",
      "metadata": {
        "id": "S4a6L3rimYuP"
      },
      "source": [
        "train_encodings = tokenizer(train_texts,truncation=True,padding=True)\r\n",
        "val_encodings = tokenizer(val_texts,truncation=True,padding=True)\r\n",
        "test_encodings = tokenizer(test_text,truncation=True,padding=True)"
      ],
      "execution_count": null,
      "outputs": []
    },
    {
      "cell_type": "code",
      "metadata": {
        "id": "T_m-cRt8oHii"
      },
      "source": [
        "train_encodings"
      ],
      "execution_count": null,
      "outputs": []
    },
    {
      "cell_type": "code",
      "metadata": {
        "id": "90gnPPjnodY1"
      },
      "source": [
        "import torch\r\n",
        "class Dataset(torch.utils.data.Dataset):\r\n",
        "    def __init__(self, encodings, labels):\r\n",
        "        self.encodings = encodings\r\n",
        "        self.labels = labels\r\n",
        "\r\n",
        "    def __getitem__(self, idx):\r\n",
        "        item = {key: torch.tensor(val[idx]) for key, val in self.encodings.items()}\r\n",
        "        item['labels'] = torch.tensor(self.labels[idx])\r\n",
        "        return item\r\n",
        "\r\n",
        "    def __len__(self):\r\n",
        "        return len(self.labels)\r\n",
        "\r\n",
        "train_dataset = Dataset(train_encodings, train_labels)\r\n",
        "val_dataset = Dataset(val_encodings, val_labels)\r\n",
        "\r\n",
        "  \r\n",
        "\r\n"
      ],
      "execution_count": null,
      "outputs": []
    },
    {
      "cell_type": "code",
      "metadata": {
        "id": "Mkg4G6LcqUAy"
      },
      "source": [
        "train_dataset[2]"
      ],
      "execution_count": null,
      "outputs": []
    },
    {
      "cell_type": "code",
      "metadata": {
        "id": "28A07x-muLuf"
      },
      "source": [
        "from transformers import DistilBertForSequenceClassification, Trainer, TrainingArguments\r\n",
        "model = DistilBertForSequenceClassification.from_pretrained(\"distilbert-base-uncased\")"
      ],
      "execution_count": null,
      "outputs": []
    },
    {
      "cell_type": "code",
      "metadata": {
        "id": "QptPFv68uZ9m"
      },
      "source": [
        "device = torch.device(\"cuda\" if torch.cuda.is_available() else \"cpu\")\r\n",
        "device"
      ],
      "execution_count": null,
      "outputs": []
    },
    {
      "cell_type": "code",
      "metadata": {
        "id": "kGP5pkBGup_U"
      },
      "source": [
        "model.to(device)"
      ],
      "execution_count": null,
      "outputs": []
    },
    {
      "cell_type": "code",
      "metadata": {
        "id": "ltN_SmKLqeP1"
      },
      "source": [
        "\r\n",
        "\r\n",
        "training_args = TrainingArguments(\r\n",
        "    output_dir='./results',          # output directory\r\n",
        "    num_train_epochs=3,              # total number of training epochs\r\n",
        "    per_device_train_batch_size=5,  # batch size per device during training\r\n",
        "    per_device_eval_batch_size=5,   # batch size for evaluation\r\n",
        "    warmup_steps=500,                # number of warmup steps for learning rate scheduler\r\n",
        "    weight_decay=0.01,               # strength of weight decay\r\n",
        "    logging_dir='./logs',            # directory for storing logs\r\n",
        "    logging_steps=100,\r\n",
        ")\r\n",
        "\r\n",
        "\r\n",
        "\r\n",
        "trainer = Trainer(\r\n",
        "    model=model,                         # the instantiated 🤗 Transformers model to be trained\r\n",
        "    args=training_args,                  # training arguments, defined above\r\n",
        "    train_dataset=train_dataset,         # training dataset\r\n",
        "    eval_dataset=val_dataset             # evaluation dataset\r\n",
        ")\r\n",
        "\r\n",
        "trainer.train()"
      ],
      "execution_count": null,
      "outputs": []
    },
    {
      "cell_type": "code",
      "metadata": {
        "id": "ael7SsdpuBj5"
      },
      "source": [
        "trainer.evaluate()"
      ],
      "execution_count": null,
      "outputs": []
    },
    {
      "cell_type": "code",
      "metadata": {
        "id": "pBsUxO_Rrkw0"
      },
      "source": [
        "test_input_ids = torch.tensor(test_encodings['input_ids'])"
      ],
      "execution_count": null,
      "outputs": []
    },
    {
      "cell_type": "code",
      "metadata": {
        "id": "vfUh6DvStGyz"
      },
      "source": [
        "import numpy as np\r\n",
        "predict__ = []\r\n",
        "with torch.no_grad():\r\n",
        "  for input in test_input_ids:\r\n",
        "    preds = model(input.unsqueeze(0).to(device))\r\n",
        "    preds = preds[0]\r\n",
        "    preds = preds.detach().cpu().numpy()\r\n",
        "    \r\n",
        "    preds = np.argmax(preds, axis=1)\r\n",
        "    # print(preds)\r\n",
        "    predict__.append(preds)"
      ],
      "execution_count": null,
      "outputs": []
    },
    {
      "cell_type": "code",
      "metadata": {
        "id": "NZ5qyhB2tySA"
      },
      "source": [
        "predict__"
      ],
      "execution_count": null,
      "outputs": []
    },
    {
      "cell_type": "code",
      "metadata": {
        "id": "ZU-rSDYTt-_a"
      },
      "source": [
        "outputs = []\r\n",
        "for count,i in enumerate(predict__):\r\n",
        "    for j in i:\r\n",
        "        outputs.append(j)"
      ],
      "execution_count": null,
      "outputs": []
    },
    {
      "cell_type": "code",
      "metadata": {
        "id": "77JWdMvX28s4"
      },
      "source": [
        "sample_sub = pd.read_csv(\"/content/sampleSubmission (1).csv\")"
      ],
      "execution_count": null,
      "outputs": []
    },
    {
      "cell_type": "code",
      "metadata": {
        "id": "biFZ_R4OuluJ"
      },
      "source": [
        "sample_sub.drop(\"label\", axis = 1, inplace = True)"
      ],
      "execution_count": null,
      "outputs": []
    },
    {
      "cell_type": "code",
      "metadata": {
        "id": "bwjwgPc-u3Pu"
      },
      "source": [
        "sample_sub[\"label\"] = outputs"
      ],
      "execution_count": null,
      "outputs": []
    },
    {
      "cell_type": "code",
      "metadata": {
        "id": "FJAvpzIRu9uN"
      },
      "source": [
        "sample_sub.to_csv(\"/content/submission4_evergreen.csv\", index=False)"
      ],
      "execution_count": null,
      "outputs": []
    },
    {
      "cell_type": "code",
      "metadata": {
        "id": "z2fPQxtjvLl3"
      },
      "source": [
        ""
      ],
      "execution_count": null,
      "outputs": []
    }
  ]
}